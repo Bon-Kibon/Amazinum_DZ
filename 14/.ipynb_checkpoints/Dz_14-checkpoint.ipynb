{
 "cells": [
  {
   "cell_type": "code",
   "execution_count": 2,
   "id": "a2b35755-b0f4-46a2-880f-7f13996658af",
   "metadata": {},
   "outputs": [],
   "source": [
    "import numpy as np\n",
    "import pandas as pd\n",
    "import seaborn as sns\n",
    "from matplotlib import pyplot as plt\n",
    "from sklearn.metrics import classification_report, confusion_matrix"
   ]
  },
  {
   "cell_type": "code",
   "execution_count": 3,
   "id": "f05abe79-0515-4f59-a883-dd5888bf50dc",
   "metadata": {},
   "outputs": [
    {
     "data": {
      "text/html": [
       "<div>\n",
       "<style scoped>\n",
       "    .dataframe tbody tr th:only-of-type {\n",
       "        vertical-align: middle;\n",
       "    }\n",
       "\n",
       "    .dataframe tbody tr th {\n",
       "        vertical-align: top;\n",
       "    }\n",
       "\n",
       "    .dataframe thead th {\n",
       "        text-align: right;\n",
       "    }\n",
       "</style>\n",
       "<table border=\"1\" class=\"dataframe\">\n",
       "  <thead>\n",
       "    <tr style=\"text-align: right;\">\n",
       "      <th></th>\n",
       "      <th>V10</th>\n",
       "      <th>V14</th>\n",
       "      <th>V4</th>\n",
       "      <th>V12</th>\n",
       "      <th>V11</th>\n",
       "      <th>V17</th>\n",
       "      <th>Class</th>\n",
       "    </tr>\n",
       "  </thead>\n",
       "  <tbody>\n",
       "    <tr>\n",
       "      <th>0</th>\n",
       "      <td>0.090794</td>\n",
       "      <td>-0.311169</td>\n",
       "      <td>1.378155</td>\n",
       "      <td>-0.617801</td>\n",
       "      <td>-0.551600</td>\n",
       "      <td>0.207971</td>\n",
       "      <td>0</td>\n",
       "    </tr>\n",
       "    <tr>\n",
       "      <th>1</th>\n",
       "      <td>-0.166974</td>\n",
       "      <td>-0.143772</td>\n",
       "      <td>0.448154</td>\n",
       "      <td>1.065235</td>\n",
       "      <td>1.612727</td>\n",
       "      <td>-0.114805</td>\n",
       "      <td>0</td>\n",
       "    </tr>\n",
       "    <tr>\n",
       "      <th>2</th>\n",
       "      <td>0.207643</td>\n",
       "      <td>-0.165946</td>\n",
       "      <td>0.379780</td>\n",
       "      <td>0.066084</td>\n",
       "      <td>0.624501</td>\n",
       "      <td>1.109969</td>\n",
       "      <td>0</td>\n",
       "    </tr>\n",
       "    <tr>\n",
       "      <th>3</th>\n",
       "      <td>-0.054952</td>\n",
       "      <td>-0.287924</td>\n",
       "      <td>-0.863291</td>\n",
       "      <td>0.178228</td>\n",
       "      <td>-0.226487</td>\n",
       "      <td>-0.684093</td>\n",
       "      <td>0</td>\n",
       "    </tr>\n",
       "    <tr>\n",
       "      <th>4</th>\n",
       "      <td>0.753074</td>\n",
       "      <td>-1.119670</td>\n",
       "      <td>0.403034</td>\n",
       "      <td>0.538196</td>\n",
       "      <td>-0.822843</td>\n",
       "      <td>-0.237033</td>\n",
       "      <td>0</td>\n",
       "    </tr>\n",
       "    <tr>\n",
       "      <th>...</th>\n",
       "      <td>...</td>\n",
       "      <td>...</td>\n",
       "      <td>...</td>\n",
       "      <td>...</td>\n",
       "      <td>...</td>\n",
       "      <td>...</td>\n",
       "      <td>...</td>\n",
       "    </tr>\n",
       "    <tr>\n",
       "      <th>284802</th>\n",
       "      <td>4.356170</td>\n",
       "      <td>4.626942</td>\n",
       "      <td>-2.066656</td>\n",
       "      <td>2.711941</td>\n",
       "      <td>-1.593105</td>\n",
       "      <td>1.991691</td>\n",
       "      <td>0</td>\n",
       "    </tr>\n",
       "    <tr>\n",
       "      <th>284803</th>\n",
       "      <td>-0.975926</td>\n",
       "      <td>-0.675143</td>\n",
       "      <td>-0.738589</td>\n",
       "      <td>0.915802</td>\n",
       "      <td>-0.150189</td>\n",
       "      <td>-0.025693</td>\n",
       "      <td>0</td>\n",
       "    </tr>\n",
       "    <tr>\n",
       "      <th>284804</th>\n",
       "      <td>-0.484782</td>\n",
       "      <td>-0.510602</td>\n",
       "      <td>-0.557828</td>\n",
       "      <td>0.063119</td>\n",
       "      <td>0.411614</td>\n",
       "      <td>0.313502</td>\n",
       "      <td>0</td>\n",
       "    </tr>\n",
       "    <tr>\n",
       "      <th>284805</th>\n",
       "      <td>-0.399126</td>\n",
       "      <td>0.449624</td>\n",
       "      <td>0.689799</td>\n",
       "      <td>-0.962886</td>\n",
       "      <td>-1.933849</td>\n",
       "      <td>0.509928</td>\n",
       "      <td>0</td>\n",
       "    </tr>\n",
       "    <tr>\n",
       "      <th>284806</th>\n",
       "      <td>-0.915427</td>\n",
       "      <td>-0.084316</td>\n",
       "      <td>-0.506271</td>\n",
       "      <td>-0.031513</td>\n",
       "      <td>-1.040458</td>\n",
       "      <td>-0.660377</td>\n",
       "      <td>0</td>\n",
       "    </tr>\n",
       "  </tbody>\n",
       "</table>\n",
       "<p>284807 rows × 7 columns</p>\n",
       "</div>"
      ],
      "text/plain": [
       "             V10       V14        V4       V12       V11       V17  Class\n",
       "0       0.090794 -0.311169  1.378155 -0.617801 -0.551600  0.207971      0\n",
       "1      -0.166974 -0.143772  0.448154  1.065235  1.612727 -0.114805      0\n",
       "2       0.207643 -0.165946  0.379780  0.066084  0.624501  1.109969      0\n",
       "3      -0.054952 -0.287924 -0.863291  0.178228 -0.226487 -0.684093      0\n",
       "4       0.753074 -1.119670  0.403034  0.538196 -0.822843 -0.237033      0\n",
       "...          ...       ...       ...       ...       ...       ...    ...\n",
       "284802  4.356170  4.626942 -2.066656  2.711941 -1.593105  1.991691      0\n",
       "284803 -0.975926 -0.675143 -0.738589  0.915802 -0.150189 -0.025693      0\n",
       "284804 -0.484782 -0.510602 -0.557828  0.063119  0.411614  0.313502      0\n",
       "284805 -0.399126  0.449624  0.689799 -0.962886 -1.933849  0.509928      0\n",
       "284806 -0.915427 -0.084316 -0.506271 -0.031513 -1.040458 -0.660377      0\n",
       "\n",
       "[284807 rows x 7 columns]"
      ]
     },
     "execution_count": 3,
     "metadata": {},
     "output_type": "execute_result"
    }
   ],
   "source": [
    "df = pd.read_csv('creditcard.csv').drop(['Time'], axis=1)\n",
    "\n",
    "features = ['V10','V14','V4','V12', 'V11', 'V17', 'Class']\n",
    "df = df[features].copy(deep=True)\n",
    "\n",
    "df"
   ]
  },
  {
   "cell_type": "code",
   "execution_count": 139,
   "id": "579849f9-6b3e-4eb7-a477-4a5407719c44",
   "metadata": {},
   "outputs": [
    {
     "data": {
      "text/html": [
       "<div>\n",
       "<style scoped>\n",
       "    .dataframe tbody tr th:only-of-type {\n",
       "        vertical-align: middle;\n",
       "    }\n",
       "\n",
       "    .dataframe tbody tr th {\n",
       "        vertical-align: top;\n",
       "    }\n",
       "\n",
       "    .dataframe thead th {\n",
       "        text-align: right;\n",
       "    }\n",
       "</style>\n",
       "<table border=\"1\" class=\"dataframe\">\n",
       "  <thead>\n",
       "    <tr style=\"text-align: right;\">\n",
       "      <th></th>\n",
       "      <th>V10</th>\n",
       "      <th>V14</th>\n",
       "      <th>V4</th>\n",
       "      <th>V12</th>\n",
       "      <th>V11</th>\n",
       "      <th>V17</th>\n",
       "    </tr>\n",
       "  </thead>\n",
       "  <tbody>\n",
       "    <tr>\n",
       "      <th>0</th>\n",
       "      <td>0.090794</td>\n",
       "      <td>-0.311169</td>\n",
       "      <td>1.378155</td>\n",
       "      <td>-0.617801</td>\n",
       "      <td>-0.551600</td>\n",
       "      <td>0.207971</td>\n",
       "    </tr>\n",
       "    <tr>\n",
       "      <th>1</th>\n",
       "      <td>-0.166974</td>\n",
       "      <td>-0.143772</td>\n",
       "      <td>0.448154</td>\n",
       "      <td>1.065235</td>\n",
       "      <td>1.612727</td>\n",
       "      <td>-0.114805</td>\n",
       "    </tr>\n",
       "    <tr>\n",
       "      <th>2</th>\n",
       "      <td>0.207643</td>\n",
       "      <td>-0.165946</td>\n",
       "      <td>0.379780</td>\n",
       "      <td>0.066084</td>\n",
       "      <td>0.624501</td>\n",
       "      <td>1.109969</td>\n",
       "    </tr>\n",
       "    <tr>\n",
       "      <th>3</th>\n",
       "      <td>-0.054952</td>\n",
       "      <td>-0.287924</td>\n",
       "      <td>-0.863291</td>\n",
       "      <td>0.178228</td>\n",
       "      <td>-0.226487</td>\n",
       "      <td>-0.684093</td>\n",
       "    </tr>\n",
       "    <tr>\n",
       "      <th>4</th>\n",
       "      <td>0.753074</td>\n",
       "      <td>-1.119670</td>\n",
       "      <td>0.403034</td>\n",
       "      <td>0.538196</td>\n",
       "      <td>-0.822843</td>\n",
       "      <td>-0.237033</td>\n",
       "    </tr>\n",
       "    <tr>\n",
       "      <th>...</th>\n",
       "      <td>...</td>\n",
       "      <td>...</td>\n",
       "      <td>...</td>\n",
       "      <td>...</td>\n",
       "      <td>...</td>\n",
       "      <td>...</td>\n",
       "    </tr>\n",
       "    <tr>\n",
       "      <th>284802</th>\n",
       "      <td>4.356170</td>\n",
       "      <td>4.626942</td>\n",
       "      <td>-2.066656</td>\n",
       "      <td>2.711941</td>\n",
       "      <td>-1.593105</td>\n",
       "      <td>1.991691</td>\n",
       "    </tr>\n",
       "    <tr>\n",
       "      <th>284803</th>\n",
       "      <td>-0.975926</td>\n",
       "      <td>-0.675143</td>\n",
       "      <td>-0.738589</td>\n",
       "      <td>0.915802</td>\n",
       "      <td>-0.150189</td>\n",
       "      <td>-0.025693</td>\n",
       "    </tr>\n",
       "    <tr>\n",
       "      <th>284804</th>\n",
       "      <td>-0.484782</td>\n",
       "      <td>-0.510602</td>\n",
       "      <td>-0.557828</td>\n",
       "      <td>0.063119</td>\n",
       "      <td>0.411614</td>\n",
       "      <td>0.313502</td>\n",
       "    </tr>\n",
       "    <tr>\n",
       "      <th>284805</th>\n",
       "      <td>-0.399126</td>\n",
       "      <td>0.449624</td>\n",
       "      <td>0.689799</td>\n",
       "      <td>-0.962886</td>\n",
       "      <td>-1.933849</td>\n",
       "      <td>0.509928</td>\n",
       "    </tr>\n",
       "    <tr>\n",
       "      <th>284806</th>\n",
       "      <td>-0.915427</td>\n",
       "      <td>-0.084316</td>\n",
       "      <td>-0.506271</td>\n",
       "      <td>-0.031513</td>\n",
       "      <td>-1.040458</td>\n",
       "      <td>-0.660377</td>\n",
       "    </tr>\n",
       "  </tbody>\n",
       "</table>\n",
       "<p>284807 rows × 6 columns</p>\n",
       "</div>"
      ],
      "text/plain": [
       "             V10       V14        V4       V12       V11       V17\n",
       "0       0.090794 -0.311169  1.378155 -0.617801 -0.551600  0.207971\n",
       "1      -0.166974 -0.143772  0.448154  1.065235  1.612727 -0.114805\n",
       "2       0.207643 -0.165946  0.379780  0.066084  0.624501  1.109969\n",
       "3      -0.054952 -0.287924 -0.863291  0.178228 -0.226487 -0.684093\n",
       "4       0.753074 -1.119670  0.403034  0.538196 -0.822843 -0.237033\n",
       "...          ...       ...       ...       ...       ...       ...\n",
       "284802  4.356170  4.626942 -2.066656  2.711941 -1.593105  1.991691\n",
       "284803 -0.975926 -0.675143 -0.738589  0.915802 -0.150189 -0.025693\n",
       "284804 -0.484782 -0.510602 -0.557828  0.063119  0.411614  0.313502\n",
       "284805 -0.399126  0.449624  0.689799 -0.962886 -1.933849  0.509928\n",
       "284806 -0.915427 -0.084316 -0.506271 -0.031513 -1.040458 -0.660377\n",
       "\n",
       "[284807 rows x 6 columns]"
      ]
     },
     "execution_count": 139,
     "metadata": {},
     "output_type": "execute_result"
    }
   ],
   "source": [
    "X = df.drop([\"Class\"], axis=1)\n",
    "X"
   ]
  },
  {
   "cell_type": "markdown",
   "id": "1e67b52c-00d1-407f-9dc4-b420b5d54331",
   "metadata": {},
   "source": [
    "# EllipticEnvelope"
   ]
  },
  {
   "cell_type": "code",
   "execution_count": 75,
   "id": "ab2dd59c-02ae-4f5f-8369-502ca544bb46",
   "metadata": {},
   "outputs": [],
   "source": [
    "from sklearn.covariance import EllipticEnvelope\n",
    "\n",
    "model = EllipticEnvelope(random_state=0, contamination=0.05).fit(X)\n",
    "pred = model.predict(X)"
   ]
  },
  {
   "cell_type": "code",
   "execution_count": 16,
   "id": "e4e1073d-392f-4ec8-9cd9-9733d15d811b",
   "metadata": {},
   "outputs": [],
   "source": [
    "def evaluate(y_true, y_pred):\n",
    "    print(classification_report(y_true, y_pred, target_names=['non‑fraud','fraud']))\n",
    "    cm = confusion_matrix(y_true, y_pred)\n",
    "    cm_df_out = pd.DataFrame(cm,\n",
    "                         index=['true_non‑fraud','true_fraud'],\n",
    "                         columns=['pred_non‑fraud','pred_fraud'])\n",
    "    print(cm_df_out)"
   ]
  },
  {
   "cell_type": "code",
   "execution_count": 77,
   "id": "ee1231ab-df30-48c8-a242-ace8cc8332a1",
   "metadata": {},
   "outputs": [
    {
     "name": "stdout",
     "output_type": "stream",
     "text": [
      "              precision    recall  f1-score   support\n",
      "\n",
      "   non‑fraud       1.00      0.95      0.98    284315\n",
      "       fraud       0.03      0.88      0.06       492\n",
      "\n",
      "    accuracy                           0.95    284807\n",
      "   macro avg       0.52      0.91      0.52    284807\n",
      "weighted avg       1.00      0.95      0.97    284807\n",
      "\n",
      "                pred_non‑fraud  pred_fraud\n",
      "true_non‑fraud          270505       13810\n",
      "true_fraud                  61         431\n"
     ]
    }
   ],
   "source": [
    "y_pred = [1 if x == -1 else 0 for x in pred]\n",
    "y_true = df['Class']\n",
    "evaluate(y_true, y_pred)"
   ]
  },
  {
   "cell_type": "markdown",
   "id": "845e54c3-8e05-4355-a6d7-6754d5b4ccd1",
   "metadata": {},
   "source": [
    "# IsolationForest"
   ]
  },
  {
   "cell_type": "code",
   "execution_count": 103,
   "id": "054de772-d122-427e-9abc-7ddd5089e8ce",
   "metadata": {},
   "outputs": [],
   "source": [
    "from sklearn.ensemble import IsolationForest\n",
    "\n",
    "model = IsolationForest(random_state=0, contamination=0.05).fit(X)\n",
    "pred = model.predict(X)"
   ]
  },
  {
   "cell_type": "code",
   "execution_count": 104,
   "id": "ad7163aa-7dbe-4f46-abdc-f4b02b141799",
   "metadata": {},
   "outputs": [
    {
     "name": "stdout",
     "output_type": "stream",
     "text": [
      "              precision    recall  f1-score   support\n",
      "\n",
      "   non‑fraud       1.00      0.95      0.98    284315\n",
      "       fraud       0.03      0.90      0.06       492\n",
      "\n",
      "    accuracy                           0.95    284807\n",
      "   macro avg       0.52      0.92      0.52    284807\n",
      "weighted avg       1.00      0.95      0.97    284807\n",
      "\n",
      "                pred_non‑fraud  pred_fraud\n",
      "true_non‑fraud          270516       13799\n",
      "true_fraud                  50         442\n"
     ]
    }
   ],
   "source": [
    "y_pred = [1 if x == -1 else 0 for x in pred]\n",
    "y_true = df['Class']\n",
    "evaluate(y_true, y_pred)"
   ]
  },
  {
   "cell_type": "markdown",
   "id": "aa484e95-4bb5-4ad8-ad39-bb2687b2dd1b",
   "metadata": {},
   "source": [
    "# LOF"
   ]
  },
  {
   "cell_type": "code",
   "execution_count": 62,
   "id": "3a5468f0-b672-42cc-94e2-0b430b953cc7",
   "metadata": {},
   "outputs": [
    {
     "name": "stderr",
     "output_type": "stream",
     "text": [
      "C:\\Users\\Hello\\miniconda3\\Lib\\site-packages\\sklearn\\neighbors\\_lof.py:322: UserWarning: Duplicate values are leading to incorrect results. Increase the number of neighbors for more accurate results.\n",
      "  warnings.warn(\n"
     ]
    }
   ],
   "source": [
    "from sklearn.neighbors import LocalOutlierFactor\n",
    "\n",
    "pred = LocalOutlierFactor(contamination=0.05, n_neighbors=50).fit_predict(X)"
   ]
  },
  {
   "cell_type": "code",
   "execution_count": 64,
   "id": "2221896d-fccb-4837-9b31-550e5517bf1a",
   "metadata": {
    "scrolled": true
   },
   "outputs": [
    {
     "name": "stdout",
     "output_type": "stream",
     "text": [
      "              precision    recall  f1-score   support\n",
      "\n",
      "   non‑fraud       1.00      0.95      0.97    284315\n",
      "       fraud       0.00      0.07      0.00       492\n",
      "\n",
      "    accuracy                           0.95    284807\n",
      "   macro avg       0.50      0.51      0.49    284807\n",
      "weighted avg       1.00      0.95      0.97    284807\n",
      "\n",
      "                pred_non‑fraud  pred_fraud\n",
      "true_non‑fraud          270107       14208\n",
      "true_fraud                 459          33\n"
     ]
    }
   ],
   "source": [
    "y_pred = [1 if x == -1 else 0 for x in pred]\n",
    "y_true = df['Class']\n",
    "evaluate(y_true, y_pred)"
   ]
  },
  {
   "cell_type": "markdown",
   "id": "bfa341ef-e595-4625-ba37-788951ba37b9",
   "metadata": {},
   "source": [
    "# DBSCAN"
   ]
  },
  {
   "cell_type": "code",
   "execution_count": 12,
   "id": "ee72b1a9-041e-4fca-b7c9-2e1c51f24de7",
   "metadata": {},
   "outputs": [],
   "source": [
    "from sklearn.cluster import DBSCAN\n",
    "\n",
    "pred = DBSCAN(eps=1, min_samples=10).fit_predict(X)"
   ]
  },
  {
   "cell_type": "code",
   "execution_count": 18,
   "id": "b4188be9-9092-4aeb-8531-5097f7374832",
   "metadata": {},
   "outputs": [
    {
     "name": "stdout",
     "output_type": "stream",
     "text": [
      "              precision    recall  f1-score   support\n",
      "\n",
      "   non‑fraud       1.00      0.99      0.99    284315\n",
      "       fraud       0.11      0.86      0.19       492\n",
      "\n",
      "    accuracy                           0.99    284807\n",
      "   macro avg       0.55      0.92      0.59    284807\n",
      "weighted avg       1.00      0.99      0.99    284807\n",
      "\n",
      "                pred_non‑fraud  pred_fraud\n",
      "true_non‑fraud          280707        3608\n",
      "true_fraud                  68         424\n"
     ]
    }
   ],
   "source": [
    "outliers_indices = [i for i, x in enumerate(pred) if x == -1]\n",
    "\n",
    "y_true = df['Class']\n",
    "y_pred = np.zeros(len(y_true), dtype=int)\n",
    "y_pred[outliers_indices] = 1\n",
    "\n",
    "evaluate(y_true, y_pred)"
   ]
  },
  {
   "cell_type": "markdown",
   "id": "22099360-41c4-4d84-9327-14255c285afa",
   "metadata": {},
   "source": [
    "# OneClassSVM"
   ]
  },
  {
   "cell_type": "code",
   "execution_count": 141,
   "id": "1305baa4-181e-47c1-8964-151e2559b290",
   "metadata": {},
   "outputs": [],
   "source": [
    "from sklearn.linear_model import SGDOneClassSVM\n",
    "\n",
    "pred = SGDOneClassSVM(nu=0.05, random_state=0).fit_predict(X)"
   ]
  },
  {
   "cell_type": "code",
   "execution_count": 143,
   "id": "619118fe-42e0-488f-a5d4-33514bcdef98",
   "metadata": {},
   "outputs": [
    {
     "name": "stdout",
     "output_type": "stream",
     "text": [
      "              precision    recall  f1-score   support\n",
      "\n",
      "   non‑fraud       1.00      0.88      0.94    284315\n",
      "       fraud       0.00      0.03      0.00       492\n",
      "\n",
      "    accuracy                           0.88    284807\n",
      "   macro avg       0.50      0.46      0.47    284807\n",
      "weighted avg       1.00      0.88      0.94    284807\n",
      "\n",
      "                pred_non‑fraud  pred_fraud\n",
      "true_non‑fraud          251572       32743\n",
      "true_fraud                 479          13\n"
     ]
    }
   ],
   "source": [
    "y_pred = [1 if x == -1 else 0 for x in pred]\n",
    "y_true = df['Class']\n",
    "evaluate(y_true, y_pred)"
   ]
  },
  {
   "cell_type": "markdown",
   "id": "14a07a7b-6db4-4ffa-b2b4-48524624246c",
   "metadata": {},
   "source": [
    "No matter what algorithm I use, results are never nearly as good as in exaple. Am I doing something wrong?"
   ]
  }
 ],
 "metadata": {
  "kernelspec": {
   "display_name": "Python [conda env:base] *",
   "language": "python",
   "name": "conda-base-py"
  },
  "language_info": {
   "codemirror_mode": {
    "name": "ipython",
    "version": 3
   },
   "file_extension": ".py",
   "mimetype": "text/x-python",
   "name": "python",
   "nbconvert_exporter": "python",
   "pygments_lexer": "ipython3",
   "version": "3.12.9"
  }
 },
 "nbformat": 4,
 "nbformat_minor": 5
}
