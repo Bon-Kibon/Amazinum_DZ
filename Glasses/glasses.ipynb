{
 "cells": [
  {
   "cell_type": "code",
   "execution_count": 414,
   "id": "c15bc20e-5134-45eb-952d-aeb250eeed0e",
   "metadata": {},
   "outputs": [],
   "source": [
    "import numpy as np\n",
    "\n",
    "def gen_floors(height, breaks=None):\n",
    "    if breaks is None:\n",
    "        breaks = np.random.randint(1, height + 1)\n",
    "    floors = [1 if i < breaks - 1 else 0 for i in range(height)]\n",
    "    print(\"Breaks at floor:\", breaks)\n",
    "    return floors\n",
    "\n",
    "def check(floor, floors):\n",
    "    return floors[floor - 1] == 0\n",
    "\n",
    "# computing max_floors we can cover\n",
    "def compute_max_floors(glasses, tries):\n",
    "    max_floors = [[0] * (tries + 1) for _ in range(glasses + 1)]\n",
    "    for i in range(1, glasses + 1):\n",
    "        for j in range(1, tries + 1):\n",
    "            # I can check = floor that im' standing at +\n",
    "            # + sum of all floors that I can check if the glass brakes +\n",
    "            # + sum of all floors that i can check if the glass doesn't break\n",
    "            max_floors[i][j] = 1 + max_floors[i - 1][j - 1] + max_floors[i][j - 1]\n",
    "    return max_floors\n",
    "\n",
    "# finding minimal tries needed to cover height by using certain amount of glasses\n",
    "def min_tries_to_cover(glasses, height):\n",
    "    tries = 0\n",
    "    while True:\n",
    "        tries += 1\n",
    "        max_floors = compute_max_floors(glasses, tries)\n",
    "        if max_floors[glasses][tries] >= height:\n",
    "            return tries, max_floors\n",
    "\n",
    "\n",
    "def will_break(height, glasses, floors):\n",
    "    tries, max_floors = min_tries_to_cover(glasses, height)\n",
    "    attempts = 0\n",
    "   \n",
    "    # Boundaries of floors we need to check \n",
    "    low = 1\n",
    "    high = height\n",
    "\n",
    "    while low <= high and glasses > 1:\n",
    "        step = max_floors[glasses - 1][tries - 1] # how much floors we can cover in the worst case\n",
    "        floor = low + step \n",
    "        \n",
    "        if floor > height:\n",
    "            floor = height\n",
    "\n",
    "        attempts += 1\n",
    "        if check(floor, floors):\n",
    "            # Glass brakes\n",
    "            glasses -= 1\n",
    "            tries -= 1\n",
    "            high = floor \n",
    "        else:\n",
    "            # Glass doesn't brake\n",
    "            low = floor\n",
    "            tries -= 1\n",
    "\n",
    "    for i in range(low, high + 1):\n",
    "        attempts += 1\n",
    "        if check(i, floors):\n",
    "            return i, attempts\n",
    "    return height, attempts\n"
   ]
  },
  {
   "cell_type": "markdown",
   "id": "07cf7063-2a3b-4ee5-a763-e269af08f601",
   "metadata": {},
   "source": [
    "# 10 floors 2 glasses (worst scenario)"
   ]
  },
  {
   "cell_type": "code",
   "execution_count": 417,
   "id": "c44c19bd-c75a-49c9-9ba0-ced2a94345f1",
   "metadata": {},
   "outputs": [
    {
     "name": "stdout",
     "output_type": "stream",
     "text": [
      "Breaks at floor: 10\n",
      "Glass will break at: 10\n",
      "Found in 9 attempts\n"
     ]
    }
   ],
   "source": [
    "hight = 10\n",
    "glasses = 2\n",
    "floors = gen_floors(hight, 10)\n",
    "\n",
    "floor_found, attempts = will_break(hight, glasses, floors)\n",
    "print(\"Glass will break at:\", floor_found)\n",
    "print(\"Found in\", attempts, \"attempts\")\n",
    "\n"
   ]
  },
  {
   "cell_type": "markdown",
   "id": "27c38487-5c9e-4c69-8c5d-db889ebe303a",
   "metadata": {},
   "source": [
    "# 100 floors 2 glasses (worst scenario)"
   ]
  },
  {
   "cell_type": "code",
   "execution_count": 420,
   "id": "ccc30ba4-1328-4f70-8f32-9608be463c32",
   "metadata": {},
   "outputs": [
    {
     "name": "stdout",
     "output_type": "stream",
     "text": [
      "Breaks at floor: 100\n",
      "Glass will break at: 100\n",
      "Found in 24 attempts\n"
     ]
    }
   ],
   "source": [
    "hight = 100\n",
    "glasses = 2\n",
    "floors = gen_floors(hight, 100)\n",
    "\n",
    "floor_found, attempts = will_break(hight, glasses, floors)\n",
    "print(\"Glass will break at:\", floor_found)\n",
    "print(\"Found in\", attempts, \"attempts\")"
   ]
  },
  {
   "cell_type": "markdown",
   "id": "70425d7b-b526-4638-8a67-eefc73f403bc",
   "metadata": {},
   "source": [
    "# 100 floors 3 glasses (worst scenario)"
   ]
  },
  {
   "cell_type": "code",
   "execution_count": 423,
   "id": "2ce1cf92-ba0d-483b-bebd-f941c71a2521",
   "metadata": {},
   "outputs": [
    {
     "name": "stdout",
     "output_type": "stream",
     "text": [
      "Breaks at floor: 100\n",
      "Glass will break at: 100\n",
      "Found in 15 attempts\n"
     ]
    }
   ],
   "source": [
    "hight = 100\n",
    "glasses = 3\n",
    "floors = gen_floors(hight, 100)\n",
    "\n",
    "floor_found, attempts = will_break(hight, glasses, floors)\n",
    "print(\"Glass will break at:\", floor_found)\n",
    "print(\"Found in\", attempts, \"attempts\")"
   ]
  },
  {
   "cell_type": "markdown",
   "id": "27a421a4-ef22-490a-848a-1d5f4eaf0950",
   "metadata": {},
   "source": [
    "# 100 floors 3 glasses (random scenario)"
   ]
  },
  {
   "cell_type": "code",
   "execution_count": 432,
   "id": "555dc373-06bc-4c26-8d2f-759e00f22d60",
   "metadata": {},
   "outputs": [
    {
     "name": "stdout",
     "output_type": "stream",
     "text": [
      "Breaks at floor: 44\n",
      "Glass will break at: 44\n",
      "Found in 6 attempts\n"
     ]
    }
   ],
   "source": [
    "hight = 100\n",
    "glasses = 3\n",
    "floors = gen_floors(hight)\n",
    "\n",
    "floor_found, attempts = will_break(hight, glasses, floors)\n",
    "print(\"Glass will break at:\", floor_found)\n",
    "print(\"Found in\", attempts, \"attempts\")"
   ]
  }
 ],
 "metadata": {
  "kernelspec": {
   "display_name": "Python [conda env:base] *",
   "language": "python",
   "name": "conda-base-py"
  },
  "language_info": {
   "codemirror_mode": {
    "name": "ipython",
    "version": 3
   },
   "file_extension": ".py",
   "mimetype": "text/x-python",
   "name": "python",
   "nbconvert_exporter": "python",
   "pygments_lexer": "ipython3",
   "version": "3.12.9"
  }
 },
 "nbformat": 4,
 "nbformat_minor": 5
}
