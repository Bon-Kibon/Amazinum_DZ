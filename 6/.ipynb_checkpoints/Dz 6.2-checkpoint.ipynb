{
 "cells": [
  {
   "cell_type": "markdown",
   "id": "c54667bd-7ab3-4a30-a3ab-a1d26a781f13",
   "metadata": {},
   "source": [
    "# Setting data"
   ]
  },
  {
   "cell_type": "code",
   "execution_count": 26,
   "id": "f5255e4b-5be2-41c5-a675-ba6b9d1a0fe7",
   "metadata": {},
   "outputs": [],
   "source": [
    "import pandas as pd \n",
    "import numpy as np \n",
    "from sklearn.preprocessing import StandardScaler\n",
    "from sklearn.model_selection import train_test_split\n",
    "from sklearn.datasets import load_diabetes\n",
    "\n",
    "X, y = load_diabetes(return_X_y=True)\n",
    "\n",
    "scaler = StandardScaler()\n",
    "\n",
    "X = scaler.fit_transform(X)\n",
    "X_train, X_test, y_train, y_test = train_test_split(X, y)\n"
   ]
  },
  {
   "cell_type": "markdown",
   "id": "3fd90bcc-17c0-4f30-bf5a-d1d14cb0f891",
   "metadata": {},
   "source": [
    "# Ridge"
   ]
  },
  {
   "cell_type": "code",
   "execution_count": 40,
   "id": "44072938-8834-4c8f-ac0b-569d783df4b2",
   "metadata": {},
   "outputs": [
    {
     "name": "stdout",
     "output_type": "stream",
     "text": [
      "Ridge\n",
      "R2 train score = 0.5222161126244231\n",
      "R2 test score = 0.4717287099046976\n",
      "b: 153.9233201896132, \n",
      "w= [  1.75002184 -11.61911155  23.92307821  16.24528416 -34.82324623\n",
      "  20.1264014    6.79672019  16.03908649  30.84352418   2.51429242]\n"
     ]
    }
   ],
   "source": [
    "from sklearn.linear_model import Ridge\n",
    "ridge_reg=Ridge()\n",
    "ridge_reg.fit(X_train,y_train)\n",
    "print ('Ridge')\n",
    "print ('R2 train score =', ridge_reg.score(X_train, y_train))\n",
    "print ('R2 test score =', ridge_reg.score(X_test, y_test))\n",
    "print ('b: {}, \\nw= {}'.format(ridge_reg.intercept_, ridge_reg.coef_)) "
   ]
  },
  {
   "cell_type": "markdown",
   "id": "6bf7a16e-92df-4fa6-8ce5-3002c68618ad",
   "metadata": {},
   "source": [
    "# Lasso"
   ]
  },
  {
   "cell_type": "code",
   "execution_count": 43,
   "id": "456a71c8-8e52-4c30-be38-7b23a6a7a8c6",
   "metadata": {},
   "outputs": [
    {
     "name": "stdout",
     "output_type": "stream",
     "text": [
      "Lasso\n",
      "R2 train score = 0.5168805187232437\n",
      "R2 test score = 0.47628547828455026\n",
      "b: 154.00047480380127, \n",
      "w= [ 0.99643137 -9.64890728 23.94269902 15.09472905 -5.31989089 -0.\n",
      " -6.87144944  8.04789812 21.5709143   1.91780685]\n"
     ]
    }
   ],
   "source": [
    "from sklearn.linear_model import Lasso\n",
    "lasso_reg=Lasso()\n",
    "lasso_reg.fit(X_train,y_train)\n",
    "print ('Lasso')\n",
    "print ('R2 train score =', lasso_reg.score(X_train, y_train))\n",
    "print ('R2 test score =', lasso_reg.score(X_test, y_test))\n",
    "print ('b: {}, \\nw= {}'.format(lasso_reg.intercept_, lasso_reg.coef_)) "
   ]
  },
  {
   "cell_type": "markdown",
   "id": "d8682745-d23a-44c9-b75d-1975f480da78",
   "metadata": {},
   "source": [
    "# Polynomial"
   ]
  },
  {
   "cell_type": "code",
   "execution_count": 101,
   "id": "74ddbb71-48ed-42d5-8435-422b8014cf6e",
   "metadata": {},
   "outputs": [
    {
     "name": "stdout",
     "output_type": "stream",
     "text": [
      "Polynomial Linear Regression\n",
      "R2 train score = 0.6225017625448761\n",
      "R2 test score = 0.22949781773700295\n",
      "b: 193.26183192440155, \n",
      "w= [ 4.65341573e+00 -1.19762389e+01  2.12701256e+01  1.63725918e+01\n",
      "  5.27703913e+02 -4.69060836e+02 -2.03335667e+02  1.36375132e+01\n",
      " -1.44069477e+02  5.09813445e-01 -1.72802207e-01  8.10889660e+00\n",
      " -1.29500020e+00  8.24137116e+00 -4.23469892e+01  2.54774565e+01\n",
      "  2.61873818e+01  1.87694911e+01  1.50014786e+01  3.67681711e+00\n",
      " -1.52040532e+00  4.52840139e+00  5.01502435e+00  2.06263340e+01\n",
      " -2.23224442e+01 -5.31309312e+00 -3.19720709e+00 -6.12986070e+00\n",
      "  8.85635532e-01  7.63778315e-01  1.18885933e+01  1.37250856e+01\n",
      " -1.15506924e+01 -2.21291718e-01  4.65365022e+00 -1.38443176e+01\n",
      "  2.96214712e+00 -1.11323343e+00 -3.08015193e+01  2.90918732e+01\n",
      "  1.09079844e+01 -5.33915014e+00  1.47448404e+01 -1.38334409e+01\n",
      "  2.63107360e+02 -4.30697464e+02 -2.27674946e+02 -5.38982850e+01\n",
      " -3.29561706e+02  2.17610732e+01  1.78985224e+02  1.80183671e+02\n",
      "  3.66357205e+01  2.85243022e+02 -1.96910455e+01  5.40026626e+01\n",
      "  4.07522406e+01  1.23104590e+02 -6.91184210e+00  1.64065392e+01\n",
      " -6.58994113e-01  3.64266100e-02  3.92251649e+01 -5.18192455e+00\n",
      "  6.00859614e+00]\n"
     ]
    }
   ],
   "source": [
    "from sklearn.preprocessing import PolynomialFeatures\n",
    "from sklearn.linear_model import LinearRegression\n",
    "\n",
    "poly= PolynomialFeatures(degree=2,include_bias=False)\n",
    "X_train_poly= poly.fit_transform(X_train)\n",
    "X_test_poly = poly.transform(X_test)\n",
    "\n",
    "poly_lin_reg = LinearRegression().fit (X_train_poly,y_train)\n",
    "print ('Polynomial Linear Regression')\n",
    "print ('R2 train score =', poly_lin_reg.score(X_train_poly, y_train))\n",
    "print ('R2 test score =', poly_lin_reg.score(X_test_poly, y_test))\n",
    "print ('b: {}, \\nw= {}'.format(poly_lin_reg.intercept_, poly_lin_reg.coef_)) "
   ]
  },
  {
   "cell_type": "code",
   "execution_count": 103,
   "id": "4687c7da-1a5f-4205-8275-fa770756892f",
   "metadata": {},
   "outputs": [
    {
     "name": "stdout",
     "output_type": "stream",
     "text": [
      "R2 train score = 0.6189108468392475\n",
      "R2 test score = 0.2887823049466649\n"
     ]
    }
   ],
   "source": [
    "poly_ridge = Ridge().fit (X_train_poly,y_train)\n",
    "print ('R2 train score =', poly_ridge.score(X_train_poly, y_train))\n",
    "print ('R2 test score =', poly_ridge.score(X_test_poly, y_test))"
   ]
  },
  {
   "cell_type": "code",
   "execution_count": 105,
   "id": "1e9deb07-eff6-4804-a84b-7520dc9ab286",
   "metadata": {},
   "outputs": [
    {
     "name": "stdout",
     "output_type": "stream",
     "text": [
      "R2 train score = 0.5928505534973738\n",
      "R2 test score = 0.3799146091420521\n"
     ]
    }
   ],
   "source": [
    "poly_lasso = Lasso().fit (X_train_poly,y_train)\n",
    "print ('R2 train score =', poly_lasso.score(X_train_poly, y_train))\n",
    "print ('R2 test score =', poly_lasso.score(X_test_poly, y_test))"
   ]
  }
 ],
 "metadata": {
  "kernelspec": {
   "display_name": "Python [conda env:base] *",
   "language": "python",
   "name": "conda-base-py"
  },
  "language_info": {
   "codemirror_mode": {
    "name": "ipython",
    "version": 3
   },
   "file_extension": ".py",
   "mimetype": "text/x-python",
   "name": "python",
   "nbconvert_exporter": "python",
   "pygments_lexer": "ipython3",
   "version": "3.12.9"
  }
 },
 "nbformat": 4,
 "nbformat_minor": 5
}
