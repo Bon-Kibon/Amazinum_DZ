{
 "cells": [
  {
   "cell_type": "code",
   "execution_count": 46,
   "id": "9f860f6a-27a6-4b63-bf18-be124b704fdc",
   "metadata": {},
   "outputs": [
    {
     "name": "stdout",
     "output_type": "stream",
     "text": [
      "{(4, 13)}\n"
     ]
    }
   ],
   "source": [
    "from collections import defaultdict\n",
    "\n",
    "#STEP 1\n",
    "posible_combinations_1 = set() #for the first step\n",
    "\n",
    "# Creating dictionarry with all possible combinations\n",
    "product_combinations = defaultdict(list)\n",
    "for i in range(2, 100):\n",
    "    for j in range(i, 100):\n",
    "        product_combinations[i*j].append((i, j))\n",
    "# Filtering dict \n",
    "invalid_products = set() # it's for the second step\n",
    "\n",
    "for product, combination in product_combinations.items(): \n",
    "    if (len(combination) > 1): # product has more than 1 combination - add to the pos_comb\n",
    "        posible_combinations_1.update(combination)\n",
    "    else:\n",
    "       invalid_products.add(product) # it's for the second step\n",
    "\n",
    "#STEP 2\n",
    "posible_combinations_2 = set() #for the second step\n",
    "\n",
    "# Creating dictionarry with all possible combinations\n",
    "sum_combinations = defaultdict(list)\n",
    "for i in range(2, 100):\n",
    "    for j in range(i, 100):\n",
    "        sum_combinations[i+j].append((i, j))\n",
    "# Filtering dict  \n",
    "for combinations in sum_combinations.values():\n",
    "    found = False\n",
    "    for combination in combinations: #checking every comb that gives us this sum\n",
    "        product = combination[0] * combination[1]\n",
    "        if (product in invalid_products): #if at least one is unsuitable\n",
    "            found = True\n",
    "            break\n",
    "    if (not found):\n",
    "        posible_combinations_2.update(combinations)\n",
    "\n",
    "#STEP 3\n",
    "posible_combinations_3 = set() \n",
    "\n",
    "# intersection of two sets\n",
    "intersection = posible_combinations_1 & posible_combinations_2\n",
    "\n",
    "prod_comb = defaultdict(list)\n",
    "for combination in intersection:\n",
    "    prod_comb[combination[0] * combination[1]].append(combination)\n",
    "\n",
    "for comb in prod_comb.values():\n",
    "    if len(comb) == 1:\n",
    "        posible_combinations_3.update(comb)\n",
    "\n",
    "#STEP 4\n",
    "posible_combinations_4 = set() \n",
    "\n",
    "sum_comb = defaultdict(list)\n",
    "for combination in posible_combinations_3:\n",
    "    sum_comb[combination[0] + combination[1]].append(combination)\n",
    "\n",
    "for comb in sum_comb.values():\n",
    "    if len(comb) == 1:\n",
    "        posible_combinations_4.update(comb)\n",
    "\n",
    "print (posible_combinations_4)\n"
   ]
  }
 ],
 "metadata": {
  "kernelspec": {
   "display_name": "Python [conda env:base] *",
   "language": "python",
   "name": "conda-base-py"
  },
  "language_info": {
   "codemirror_mode": {
    "name": "ipython",
    "version": 3
   },
   "file_extension": ".py",
   "mimetype": "text/x-python",
   "name": "python",
   "nbconvert_exporter": "python",
   "pygments_lexer": "ipython3",
   "version": "3.12.9"
  }
 },
 "nbformat": 4,
 "nbformat_minor": 5
}
