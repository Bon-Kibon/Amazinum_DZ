{
 "cells": [
  {
   "cell_type": "code",
   "execution_count": 1,
   "id": "5ccedc81-ad8d-43ca-a273-b9c19a2ab1aa",
   "metadata": {},
   "outputs": [
    {
     "name": "stdout",
     "output_type": "stream",
     "text": [
      "{(10, 43), (2, 39), (18, 35), (8, 9), (12, 25), (17, 30), (9, 26), (6, 11), (7, 10), (10, 27), (8, 39), (18, 19), (15, 32), (16, 31), (7, 28), (14, 15), (5, 12), (3, 24), (6, 41), (4, 23), (11, 16), (5, 30), (14, 33), (9, 28), (13, 28), (2, 25), (7, 30), (3, 8), (20, 33), (21, 32), (12, 29), (3, 26), (4, 25), (5, 32), (3, 44), (4, 43), (19, 34), (10, 31), (2, 27), (18, 23), (2, 45), (9, 14), (13, 14), (8, 27), (16, 19), (7, 16), (8, 45), (9, 44), (12, 15), (6, 29), (22, 25), (23, 24), (14, 21), (5, 18), (6, 47), (7, 46), (10, 17), (13, 16), (8, 29), (16, 21), (5, 48), (20, 21), (12, 17), (3, 14), (6, 31), (4, 13), (14, 23), (12, 35), (4, 31), (19, 22), (10, 19), (11, 18), (2, 15), (10, 37), (11, 36), (2, 33), (26, 27), (17, 18), (8, 15), (4, 33), (17, 36), (8, 33), (9, 32), (25, 28), (15, 20), (6, 17), (2, 35), (5, 6), (15, 38), (6, 35), (16, 37), (7, 34), (23, 30), (17, 20), (14, 39), (5, 36), (15, 22), (13, 34), (21, 26), (12, 23), (4, 19), (8, 19), (9, 18), (3, 32), (19, 28), (10, 25), (11, 24), (2, 21), (3, 50), (4, 49), (11, 42), (6, 21), (7, 20), (18, 29), (2, 51), (5, 22), (8, 21), (17, 24), (9, 20), (3, 34), (11, 26), (9, 38), (24, 29), (15, 26), (6, 23), (16, 25), (7, 22), (7, 40), (22, 31), (14, 27), (5, 24), (5, 42), (13, 22), (4, 7), (13, 40), (20, 27), (3, 20), (10, 13), (11, 12), (2, 9), (12, 41), (3, 38), (4, 37), (11, 30), (13, 24)}\n"
     ]
    }
   ],
   "source": [
    "from collections import defaultdict\n",
    "\n",
    "#STEP 1\n",
    "posible_combinations_1 = set() #for the first step\n",
    "\n",
    "# Creating dictionarry with all possible combinations\n",
    "product_combinations = defaultdict(list)\n",
    "for i in range(2, 100):\n",
    "    for j in range(i, 100):\n",
    "        product_combinations[i*j].append((i, j))\n",
    "# Filtering dict \n",
    "invalid_products = set() # it's for the second step\n",
    "\n",
    "for product, combination in product_combinations.items(): \n",
    "    if (len(combination) > 1): # product has more than 1 combination - add to the pos_comb\n",
    "        posible_combinations_1.update(combination)\n",
    "    else:\n",
    "       invalid_products.add(product) # it's for the second step\n",
    "\n",
    "#STEP 2\n",
    "posible_combinations_2 = set() #for the second step\n",
    "\n",
    "# Creating dictionarry with all possible combinations\n",
    "sum_combinations = defaultdict(list)\n",
    "for i in range(2, 100):\n",
    "    for j in range(i, 100):\n",
    "        sum_combinations[i+j].append((i, j))\n",
    "# Filtering dict  \n",
    "for combinations in sum_combinations.values():\n",
    "    found = False\n",
    "    for combination in combinations: #checking every comb that gives us this sum\n",
    "        product = combination[0] * combination[1]\n",
    "        if (product in invalid_products): #if at least one is unsuitable\n",
    "            found = True\n",
    "            break\n",
    "    if (not found):\n",
    "        posible_combinations_2.update(combinations)\n",
    "\n",
    "#STEP 3\n",
    "# intersection of two sets\n",
    "posible_combinations_3 = posible_combinations_1 & posible_combinations_2\n",
    "print (posible_combinations_3)\n",
    "\n",
    "#STEP 4\n",
    "posible_combinations_4 = set()\n",
    "#???\n",
    "\n",
    "\n"
   ]
  },
  {
   "cell_type": "code",
   "execution_count": null,
   "id": "2043a5f3-a1b6-49c0-b2b7-90e055ccdf7b",
   "metadata": {},
   "outputs": [],
   "source": []
  }
 ],
 "metadata": {
  "kernelspec": {
   "display_name": "Python [conda env:base] *",
   "language": "python",
   "name": "conda-base-py"
  },
  "language_info": {
   "codemirror_mode": {
    "name": "ipython",
    "version": 3
   },
   "file_extension": ".py",
   "mimetype": "text/x-python",
   "name": "python",
   "nbconvert_exporter": "python",
   "pygments_lexer": "ipython3",
   "version": "3.12.9"
  }
 },
 "nbformat": 4,
 "nbformat_minor": 5
}
