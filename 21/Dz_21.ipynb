{
 "cells": [
  {
   "cell_type": "code",
   "execution_count": 22,
   "id": "a6f40a36-22b3-4e5a-9dea-b57c5b7ea370",
   "metadata": {},
   "outputs": [],
   "source": [
    "import pandas as pd\n",
    "import numpy as np"
   ]
  },
  {
   "cell_type": "markdown",
   "id": "bf4667cb-ed28-46c0-9e60-d55ad71ce614",
   "metadata": {},
   "source": [
    "# Data loading"
   ]
  },
  {
   "cell_type": "code",
   "execution_count": 2,
   "id": "4a340cd4-a4a6-4d5f-9948-c9608bde26ed",
   "metadata": {},
   "outputs": [
    {
     "name": "stdout",
     "output_type": "stream",
     "text": [
      "len of texts_neg = 5,331\n",
      "\n",
      " simplistic , silly and tedious . \n",
      "\n",
      " it's so laddish and juvenile , only teenage boys could possibly find it funny . \n",
      "\n",
      " exploitative and largely devoid of the depth or sophistication that would make watching such a graphic treatment of the crimes bearable . \n",
      "\n",
      " [garbus] discards the potential for pathological study , exhuming instead , the skewed melodrama of the circumstantial situation . \n",
      "\n",
      " a visually flashy but narratively opaque and emotionally vapid exercise in style and mystification . \n"
     ]
    }
   ],
   "source": [
    "fn='./data/rt-polarity.neg'\n",
    "\n",
    "with open(fn, \"r\",encoding='utf-8', errors='ignore') as f: # some invalid symbols encountered\n",
    "    content = f.read()\n",
    "texts_neg =  content.splitlines()\n",
    "\n",
    "print ('len of texts_neg = {:,}'.format (len(texts_neg)))\n",
    "for review in texts_neg[:5]:\n",
    "    print ( '\\n', review)"
   ]
  },
  {
   "cell_type": "code",
   "execution_count": 7,
   "id": "9853501b-7a3e-48b5-a338-f1d41c1c1f3b",
   "metadata": {},
   "outputs": [
    {
     "name": "stdout",
     "output_type": "stream",
     "text": [
      "len of texts_pos = 5,331\n",
      "\n",
      " the rock is destined to be the 21st century's new \" conan \" and that he's going to make a splash even greater than arnold schwarzenegger , jean-claud van damme or steven segal . \n",
      "\n",
      " the gorgeously elaborate continuation of \" the lord of the rings \" trilogy is so huge that a column of words cannot adequately describe co-writer/director peter jackson's expanded vision of j . r . r . tolkien's middle-earth . \n",
      "\n",
      " effective but too-tepid biopic\n",
      "\n",
      " if you sometimes like to go to the movies to have fun , wasabi is a good place to start . \n",
      "\n",
      " emerges as something rare , an issue movie that's so honest and keenly observed that it doesn't feel like one . \n"
     ]
    }
   ],
   "source": [
    "fn='./data/rt-polarity.pos'\n",
    "\n",
    "with open(fn, \"r\",encoding='utf-8', errors='ignore') as f:\n",
    "    content = f.read()\n",
    "texts_pos =  content.splitlines()\n",
    "\n",
    "print ('len of texts_pos = {:,}'.format (len(texts_pos)))\n",
    "for review in texts_pos[:5]:\n",
    "    print ('\\n', review)"
   ]
  },
  {
   "cell_type": "markdown",
   "id": "cb6523d9-1327-4b11-8f76-d548f6ffb0bf",
   "metadata": {},
   "source": [
    "# Creating dataframe"
   ]
  },
  {
   "cell_type": "code",
   "execution_count": 10,
   "id": "02f764c3-8d49-46eb-bd88-f666011a218c",
   "metadata": {},
   "outputs": [
    {
     "data": {
      "text/html": [
       "<div>\n",
       "<style scoped>\n",
       "    .dataframe tbody tr th:only-of-type {\n",
       "        vertical-align: middle;\n",
       "    }\n",
       "\n",
       "    .dataframe tbody tr th {\n",
       "        vertical-align: top;\n",
       "    }\n",
       "\n",
       "    .dataframe thead th {\n",
       "        text-align: right;\n",
       "    }\n",
       "</style>\n",
       "<table border=\"1\" class=\"dataframe\">\n",
       "  <thead>\n",
       "    <tr style=\"text-align: right;\">\n",
       "      <th></th>\n",
       "      <th>reviews</th>\n",
       "      <th>rating</th>\n",
       "    </tr>\n",
       "  </thead>\n",
       "  <tbody>\n",
       "    <tr>\n",
       "      <th>0</th>\n",
       "      <td>simplistic , silly and tedious .</td>\n",
       "      <td>0</td>\n",
       "    </tr>\n",
       "    <tr>\n",
       "      <th>1</th>\n",
       "      <td>it's so laddish and juvenile , only teenage bo...</td>\n",
       "      <td>0</td>\n",
       "    </tr>\n",
       "    <tr>\n",
       "      <th>2</th>\n",
       "      <td>exploitative and largely devoid of the depth o...</td>\n",
       "      <td>0</td>\n",
       "    </tr>\n",
       "    <tr>\n",
       "      <th>3</th>\n",
       "      <td>[garbus] discards the potential for pathologic...</td>\n",
       "      <td>0</td>\n",
       "    </tr>\n",
       "    <tr>\n",
       "      <th>4</th>\n",
       "      <td>a visually flashy but narratively opaque and e...</td>\n",
       "      <td>0</td>\n",
       "    </tr>\n",
       "  </tbody>\n",
       "</table>\n",
       "</div>"
      ],
      "text/plain": [
       "                                             reviews  rating\n",
       "0                  simplistic , silly and tedious .        0\n",
       "1  it's so laddish and juvenile , only teenage bo...       0\n",
       "2  exploitative and largely devoid of the depth o...       0\n",
       "3  [garbus] discards the potential for pathologic...       0\n",
       "4  a visually flashy but narratively opaque and e...       0"
      ]
     },
     "execution_count": 10,
     "metadata": {},
     "output_type": "execute_result"
    }
   ],
   "source": [
    "df_neg = pd.DataFrame(texts_neg, columns=['reviews'])\n",
    "df_neg['rating'] = 0\n",
    "df_neg.head()"
   ]
  },
  {
   "cell_type": "code",
   "execution_count": 12,
   "id": "39cdb693-717a-4ff7-a306-26f84d011d81",
   "metadata": {},
   "outputs": [
    {
     "data": {
      "text/html": [
       "<div>\n",
       "<style scoped>\n",
       "    .dataframe tbody tr th:only-of-type {\n",
       "        vertical-align: middle;\n",
       "    }\n",
       "\n",
       "    .dataframe tbody tr th {\n",
       "        vertical-align: top;\n",
       "    }\n",
       "\n",
       "    .dataframe thead th {\n",
       "        text-align: right;\n",
       "    }\n",
       "</style>\n",
       "<table border=\"1\" class=\"dataframe\">\n",
       "  <thead>\n",
       "    <tr style=\"text-align: right;\">\n",
       "      <th></th>\n",
       "      <th>reviews</th>\n",
       "      <th>rating</th>\n",
       "    </tr>\n",
       "  </thead>\n",
       "  <tbody>\n",
       "    <tr>\n",
       "      <th>0</th>\n",
       "      <td>the rock is destined to be the 21st century's ...</td>\n",
       "      <td>1</td>\n",
       "    </tr>\n",
       "    <tr>\n",
       "      <th>1</th>\n",
       "      <td>the gorgeously elaborate continuation of \" the...</td>\n",
       "      <td>1</td>\n",
       "    </tr>\n",
       "    <tr>\n",
       "      <th>2</th>\n",
       "      <td>effective but too-tepid biopic</td>\n",
       "      <td>1</td>\n",
       "    </tr>\n",
       "    <tr>\n",
       "      <th>3</th>\n",
       "      <td>if you sometimes like to go to the movies to h...</td>\n",
       "      <td>1</td>\n",
       "    </tr>\n",
       "    <tr>\n",
       "      <th>4</th>\n",
       "      <td>emerges as something rare , an issue movie tha...</td>\n",
       "      <td>1</td>\n",
       "    </tr>\n",
       "  </tbody>\n",
       "</table>\n",
       "</div>"
      ],
      "text/plain": [
       "                                             reviews  rating\n",
       "0  the rock is destined to be the 21st century's ...       1\n",
       "1  the gorgeously elaborate continuation of \" the...       1\n",
       "2                     effective but too-tepid biopic       1\n",
       "3  if you sometimes like to go to the movies to h...       1\n",
       "4  emerges as something rare , an issue movie tha...       1"
      ]
     },
     "execution_count": 12,
     "metadata": {},
     "output_type": "execute_result"
    }
   ],
   "source": [
    "df_pos = pd.DataFrame(texts_pos, columns=['reviews'])\n",
    "df_pos['rating'] = 1\n",
    "df_pos.head()"
   ]
  },
  {
   "cell_type": "code",
   "execution_count": 14,
   "id": "9ba09416-fd54-4abf-bc57-692063ec7979",
   "metadata": {},
   "outputs": [
    {
     "data": {
      "text/html": [
       "<div>\n",
       "<style scoped>\n",
       "    .dataframe tbody tr th:only-of-type {\n",
       "        vertical-align: middle;\n",
       "    }\n",
       "\n",
       "    .dataframe tbody tr th {\n",
       "        vertical-align: top;\n",
       "    }\n",
       "\n",
       "    .dataframe thead th {\n",
       "        text-align: right;\n",
       "    }\n",
       "</style>\n",
       "<table border=\"1\" class=\"dataframe\">\n",
       "  <thead>\n",
       "    <tr style=\"text-align: right;\">\n",
       "      <th></th>\n",
       "      <th>reviews</th>\n",
       "      <th>rating</th>\n",
       "    </tr>\n",
       "  </thead>\n",
       "  <tbody>\n",
       "    <tr>\n",
       "      <th>0</th>\n",
       "      <td>the rock is destined to be the 21st century's ...</td>\n",
       "      <td>1</td>\n",
       "    </tr>\n",
       "    <tr>\n",
       "      <th>1000</th>\n",
       "      <td>the weakest of the four harry potter books has...</td>\n",
       "      <td>1</td>\n",
       "    </tr>\n",
       "    <tr>\n",
       "      <th>2000</th>\n",
       "      <td>a captivatingly quirky hybrid of character por...</td>\n",
       "      <td>1</td>\n",
       "    </tr>\n",
       "    <tr>\n",
       "      <th>3000</th>\n",
       "      <td>expect no major discoveries , nor any stylish ...</td>\n",
       "      <td>1</td>\n",
       "    </tr>\n",
       "    <tr>\n",
       "      <th>4000</th>\n",
       "      <td>directed with purpose and finesse by england's...</td>\n",
       "      <td>1</td>\n",
       "    </tr>\n",
       "    <tr>\n",
       "      <th>5000</th>\n",
       "      <td>affable if not timeless , like mike raises som...</td>\n",
       "      <td>1</td>\n",
       "    </tr>\n",
       "    <tr>\n",
       "      <th>669</th>\n",
       "      <td>as the movie dragged on , i thought i heard a ...</td>\n",
       "      <td>0</td>\n",
       "    </tr>\n",
       "    <tr>\n",
       "      <th>1669</th>\n",
       "      <td>at its best , queen is campy fun like the vinc...</td>\n",
       "      <td>0</td>\n",
       "    </tr>\n",
       "    <tr>\n",
       "      <th>2669</th>\n",
       "      <td>don't let your festive spirit go this far .</td>\n",
       "      <td>0</td>\n",
       "    </tr>\n",
       "    <tr>\n",
       "      <th>3669</th>\n",
       "      <td>every visual joke is milked , every set-up obv...</td>\n",
       "      <td>0</td>\n",
       "    </tr>\n",
       "    <tr>\n",
       "      <th>4669</th>\n",
       "      <td>like mike is a slight and uninventive movie : ...</td>\n",
       "      <td>0</td>\n",
       "    </tr>\n",
       "  </tbody>\n",
       "</table>\n",
       "</div>"
      ],
      "text/plain": [
       "                                                reviews  rating\n",
       "0     the rock is destined to be the 21st century's ...       1\n",
       "1000  the weakest of the four harry potter books has...       1\n",
       "2000  a captivatingly quirky hybrid of character por...       1\n",
       "3000  expect no major discoveries , nor any stylish ...       1\n",
       "4000  directed with purpose and finesse by england's...       1\n",
       "5000  affable if not timeless , like mike raises som...       1\n",
       "669   as the movie dragged on , i thought i heard a ...       0\n",
       "1669  at its best , queen is campy fun like the vinc...       0\n",
       "2669       don't let your festive spirit go this far .        0\n",
       "3669  every visual joke is milked , every set-up obv...       0\n",
       "4669  like mike is a slight and uninventive movie : ...       0"
      ]
     },
     "execution_count": 14,
     "metadata": {},
     "output_type": "execute_result"
    }
   ],
   "source": [
    "df = pd.concat([df_pos, df_neg])\n",
    "df[::1000]"
   ]
  },
  {
   "cell_type": "markdown",
   "id": "59045a8f-be83-433c-a7f6-c383c8af1153",
   "metadata": {},
   "source": [
    "# Split to train and test sets"
   ]
  },
  {
   "cell_type": "code",
   "execution_count": 17,
   "id": "aa818f4a-edf7-4a86-addc-a4ba9b389b1a",
   "metadata": {},
   "outputs": [],
   "source": [
    "from sklearn.model_selection import train_test_split\n",
    "X_train, X_test, y_train, y_test = train_test_split(df['reviews'],df['rating'],random_state=42)"
   ]
  },
  {
   "cell_type": "markdown",
   "id": "8730e067-960b-4681-aa01-f47e8524827f",
   "metadata": {},
   "source": [
    "# Logistic Regression"
   ]
  },
  {
   "cell_type": "code",
   "execution_count": 56,
   "id": "43960dac-2c7e-4621-aa0c-f8715eeea2b8",
   "metadata": {},
   "outputs": [],
   "source": [
    "from sklearn.feature_extraction.text import CountVectorizer\n",
    "\n",
    "vect = CountVectorizer(stop_words='english').fit(X_train)\n",
    "X_train_vectorized = vect.transform(X_train)\n",
    "X_test_vectorized = vect.transform(X_test)"
   ]
  },
  {
   "cell_type": "code",
   "execution_count": 62,
   "id": "df68baf6-0624-47b6-b4dc-9f4642593133",
   "metadata": {},
   "outputs": [],
   "source": [
    "from sklearn.linear_model import LogisticRegression\n",
    "from sklearn.metrics import roc_auc_score\n",
    "from sklearn.metrics import f1_score\n",
    "\n",
    "clf = LogisticRegression().fit(X_train_vectorized, y_train)"
   ]
  },
  {
   "cell_type": "code",
   "execution_count": 63,
   "id": "3279af0e-f9d2-4d73-8a3a-3e603c64777d",
   "metadata": {},
   "outputs": [
    {
     "name": "stdout",
     "output_type": "stream",
     "text": [
      "f1:  0.7479182437547313\n",
      "AUC:  0.8240452299063085\n"
     ]
    }
   ],
   "source": [
    "predictions = clf.predict(X_test_vectorized) \n",
    "print('f1: ', f1_score(y_test, predictions))\n",
    "\n",
    "scores = clf.decision_function(X_test_vectorized)\n",
    "print('AUC: ', roc_auc_score(y_test, scores))"
   ]
  },
  {
   "cell_type": "markdown",
   "id": "4038839e-8814-4021-82ea-1d8de63cc963",
   "metadata": {},
   "source": [
    "# Logistic regression with Word2Vec"
   ]
  },
  {
   "cell_type": "code",
   "execution_count": 34,
   "id": "7f92fa2b-20e5-4d15-8091-407f821c9ad5",
   "metadata": {},
   "outputs": [
    {
     "name": "stderr",
     "output_type": "stream",
     "text": [
      "[nltk_data] Downloading package punkt to\n",
      "[nltk_data]     C:\\Users\\Hello\\AppData\\Roaming\\nltk_data...\n",
      "[nltk_data]   Package punkt is already up-to-date!\n",
      "[nltk_data] Downloading package punkt_tab to\n",
      "[nltk_data]     C:\\Users\\Hello\\AppData\\Roaming\\nltk_data...\n",
      "[nltk_data]   Package punkt_tab is already up-to-date!\n"
     ]
    },
    {
     "data": {
      "text/plain": [
       "True"
      ]
     },
     "execution_count": 34,
     "metadata": {},
     "output_type": "execute_result"
    }
   ],
   "source": [
    "import gensim\n",
    "from gensim.models import Word2Vec\n",
    "from nltk.tokenize import word_tokenize\n",
    "import nltk\n",
    "\n",
    "nltk.download('punkt')\n",
    "nltk.download('punkt_tab')"
   ]
  },
  {
   "cell_type": "code",
   "execution_count": 48,
   "id": "98960402-1402-4153-8f36-924100156283",
   "metadata": {},
   "outputs": [],
   "source": [
    "X_train_tokenized = [word_tokenize(text) for text in X_train]\n",
    "X_test_tokenized = [word_tokenize(text) for text in X_test]\n",
    "\n",
    "w2v_model = Word2Vec(X_train_tokenized,\n",
    "                    vector_size=50,     # Dimensionality of word vectors\n",
    "                    window=5,            # Context window size\n",
    "                    min_count=2,         # Ignore words with frequency below this\n",
    "                    workers=4)           # Number of threads"
   ]
  },
  {
   "cell_type": "code",
   "execution_count": 49,
   "id": "b4e43e14-8cf2-4872-9f66-03dc2a3fcb48",
   "metadata": {},
   "outputs": [],
   "source": [
    "def document_vector(doc, model):\n",
    "    # Remove out-of-vocabulary words\n",
    "    vector = [model.wv[word] for word in doc if word in model.wv]\n",
    "    if len(vector) == 0:\n",
    "        return np.zeros(model.vector_size)\n",
    "    return np.mean(vector, axis=0)\n",
    "\n",
    "X_train_w2v = np.array([document_vector(doc, w2v_model) for doc in X_train_tokenized])\n",
    "X_test_w2v = np.array([document_vector(doc, w2v_model) for doc in X_test_tokenized])"
   ]
  },
  {
   "cell_type": "code",
   "execution_count": 50,
   "id": "ba1d67f0-9097-40ae-b2d8-d3a4052dfce9",
   "metadata": {},
   "outputs": [
    {
     "name": "stdout",
     "output_type": "stream",
     "text": [
      "f1:  0.6136849607982894\n",
      "AUC:  0.6263878265792955\n"
     ]
    }
   ],
   "source": [
    "clf = LogisticRegression().fit(X_train_w2v, y_train)\n",
    "\n",
    "predictions = clf.predict(X_test_w2v) \n",
    "print('f1: ', f1_score(y_test, predictions))\n",
    "\n",
    "scores = clf.decision_function(X_test_w2v)\n",
    "print('AUC: ', roc_auc_score(y_test, scores))"
   ]
  },
  {
   "cell_type": "markdown",
   "id": "fe4fbf1e-cf09-4ae4-b960-2b11facb23f7",
   "metadata": {},
   "source": [
    "# Zero-Shot Classification"
   ]
  },
  {
   "cell_type": "code",
   "execution_count": 19,
   "id": "d53073e9-1df8-4989-aaf1-2a58417d3683",
   "metadata": {},
   "outputs": [
    {
     "name": "stderr",
     "output_type": "stream",
     "text": [
      "Device set to use cuda:0\n",
      "You seem to be using the pipelines sequentially on GPU. In order to maximize efficiency please use a dataset\n"
     ]
    }
   ],
   "source": [
    "from transformers import pipeline\n",
    "\n",
    "zero_shot_classifier = pipeline(\"zero-shot-classification\",\n",
    "                                model=\"facebook/bart-large-mnli\",\n",
    "                                batch_size=50)\n",
    "\n",
    "candidate_labels = [\"positive\", \"negative\"]\n",
    "predictions = []\n",
    "scores = []\n",
    "\n",
    "for review in X_test:\n",
    "    result = zero_shot_classifier(review, candidate_labels)\n",
    "    predictions.append(result['labels'][0])\n",
    "    scores.append(result['scores'][result['labels'].index(\"positive\")])"
   ]
  },
  {
   "cell_type": "code",
   "execution_count": 24,
   "id": "d73ca6e1-3968-4249-a760-937a2f03cf44",
   "metadata": {},
   "outputs": [
    {
     "name": "stdout",
     "output_type": "stream",
     "text": [
      "f1:  0.7913786091907279\n",
      "AUC:  0.8936649202578358\n"
     ]
    }
   ],
   "source": [
    "label_map = {\"positive\": 1, \"negative\": 0}\n",
    "num_predictions = [label_map[pred] for pred in predictions]\n",
    "\n",
    "print('f1: ', f1_score(y_test, num_predictions))\n",
    "print('AUC: ', roc_auc_score(y_test, scores))"
   ]
  },
  {
   "cell_type": "markdown",
   "id": "55eced7b-1720-41d5-8f4a-6a99279b0efa",
   "metadata": {},
   "source": [
    "# Results\n",
    "So in conclusion, zero_shot_classifier gave relatively the best results and Logistic regression with Word2Vec gave the worst. But zero_shot_classifier took a lot of time and its results not much grater than from standart logistic regression. Word2Vec worked pretty bad, maybe because logistic regression can't properly separate dense vectors, so perhaps I shoud have choose a different classifying method"
   ]
  }
 ],
 "metadata": {
  "kernelspec": {
   "display_name": "Python [conda env:base] *",
   "language": "python",
   "name": "conda-base-py"
  },
  "language_info": {
   "codemirror_mode": {
    "name": "ipython",
    "version": 3
   },
   "file_extension": ".py",
   "mimetype": "text/x-python",
   "name": "python",
   "nbconvert_exporter": "python",
   "pygments_lexer": "ipython3",
   "version": "3.12.9"
  }
 },
 "nbformat": 4,
 "nbformat_minor": 5
}
