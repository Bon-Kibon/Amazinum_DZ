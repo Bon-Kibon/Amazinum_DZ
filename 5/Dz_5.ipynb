{
 "cells": [
  {
   "cell_type": "markdown",
   "id": "37a3537e-83d4-4a3d-ae82-128e05be4255",
   "metadata": {},
   "source": [
    "# Iris dataset"
   ]
  },
  {
   "cell_type": "code",
   "execution_count": 93,
   "id": "57f66e15-09d6-40d6-8e63-cf37ae299fc4",
   "metadata": {},
   "outputs": [
    {
     "data": {
      "text/html": [
       "<div>\n",
       "<style scoped>\n",
       "    .dataframe tbody tr th:only-of-type {\n",
       "        vertical-align: middle;\n",
       "    }\n",
       "\n",
       "    .dataframe tbody tr th {\n",
       "        vertical-align: top;\n",
       "    }\n",
       "\n",
       "    .dataframe thead th {\n",
       "        text-align: right;\n",
       "    }\n",
       "</style>\n",
       "<table border=\"1\" class=\"dataframe\">\n",
       "  <thead>\n",
       "    <tr style=\"text-align: right;\">\n",
       "      <th></th>\n",
       "      <th>sepal length (cm)</th>\n",
       "      <th>sepal width (cm)</th>\n",
       "      <th>petal length (cm)</th>\n",
       "      <th>petal width (cm)</th>\n",
       "      <th>label</th>\n",
       "      <th>label_names</th>\n",
       "    </tr>\n",
       "  </thead>\n",
       "  <tbody>\n",
       "    <tr>\n",
       "      <th>0</th>\n",
       "      <td>5.1</td>\n",
       "      <td>3.5</td>\n",
       "      <td>1.4</td>\n",
       "      <td>0.2</td>\n",
       "      <td>0</td>\n",
       "      <td>setosa</td>\n",
       "    </tr>\n",
       "    <tr>\n",
       "      <th>1</th>\n",
       "      <td>4.9</td>\n",
       "      <td>3.0</td>\n",
       "      <td>1.4</td>\n",
       "      <td>0.2</td>\n",
       "      <td>0</td>\n",
       "      <td>setosa</td>\n",
       "    </tr>\n",
       "    <tr>\n",
       "      <th>2</th>\n",
       "      <td>4.7</td>\n",
       "      <td>3.2</td>\n",
       "      <td>1.3</td>\n",
       "      <td>0.2</td>\n",
       "      <td>0</td>\n",
       "      <td>setosa</td>\n",
       "    </tr>\n",
       "    <tr>\n",
       "      <th>3</th>\n",
       "      <td>4.6</td>\n",
       "      <td>3.1</td>\n",
       "      <td>1.5</td>\n",
       "      <td>0.2</td>\n",
       "      <td>0</td>\n",
       "      <td>setosa</td>\n",
       "    </tr>\n",
       "    <tr>\n",
       "      <th>4</th>\n",
       "      <td>5.0</td>\n",
       "      <td>3.6</td>\n",
       "      <td>1.4</td>\n",
       "      <td>0.2</td>\n",
       "      <td>0</td>\n",
       "      <td>setosa</td>\n",
       "    </tr>\n",
       "    <tr>\n",
       "      <th>...</th>\n",
       "      <td>...</td>\n",
       "      <td>...</td>\n",
       "      <td>...</td>\n",
       "      <td>...</td>\n",
       "      <td>...</td>\n",
       "      <td>...</td>\n",
       "    </tr>\n",
       "    <tr>\n",
       "      <th>145</th>\n",
       "      <td>6.7</td>\n",
       "      <td>3.0</td>\n",
       "      <td>5.2</td>\n",
       "      <td>2.3</td>\n",
       "      <td>2</td>\n",
       "      <td>virginica</td>\n",
       "    </tr>\n",
       "    <tr>\n",
       "      <th>146</th>\n",
       "      <td>6.3</td>\n",
       "      <td>2.5</td>\n",
       "      <td>5.0</td>\n",
       "      <td>1.9</td>\n",
       "      <td>2</td>\n",
       "      <td>virginica</td>\n",
       "    </tr>\n",
       "    <tr>\n",
       "      <th>147</th>\n",
       "      <td>6.5</td>\n",
       "      <td>3.0</td>\n",
       "      <td>5.2</td>\n",
       "      <td>2.0</td>\n",
       "      <td>2</td>\n",
       "      <td>virginica</td>\n",
       "    </tr>\n",
       "    <tr>\n",
       "      <th>148</th>\n",
       "      <td>6.2</td>\n",
       "      <td>3.4</td>\n",
       "      <td>5.4</td>\n",
       "      <td>2.3</td>\n",
       "      <td>2</td>\n",
       "      <td>virginica</td>\n",
       "    </tr>\n",
       "    <tr>\n",
       "      <th>149</th>\n",
       "      <td>5.9</td>\n",
       "      <td>3.0</td>\n",
       "      <td>5.1</td>\n",
       "      <td>1.8</td>\n",
       "      <td>2</td>\n",
       "      <td>virginica</td>\n",
       "    </tr>\n",
       "  </tbody>\n",
       "</table>\n",
       "<p>150 rows × 6 columns</p>\n",
       "</div>"
      ],
      "text/plain": [
       "     sepal length (cm)  sepal width (cm)  petal length (cm)  petal width (cm)  \\\n",
       "0                  5.1               3.5                1.4               0.2   \n",
       "1                  4.9               3.0                1.4               0.2   \n",
       "2                  4.7               3.2                1.3               0.2   \n",
       "3                  4.6               3.1                1.5               0.2   \n",
       "4                  5.0               3.6                1.4               0.2   \n",
       "..                 ...               ...                ...               ...   \n",
       "145                6.7               3.0                5.2               2.3   \n",
       "146                6.3               2.5                5.0               1.9   \n",
       "147                6.5               3.0                5.2               2.0   \n",
       "148                6.2               3.4                5.4               2.3   \n",
       "149                5.9               3.0                5.1               1.8   \n",
       "\n",
       "     label label_names  \n",
       "0        0      setosa  \n",
       "1        0      setosa  \n",
       "2        0      setosa  \n",
       "3        0      setosa  \n",
       "4        0      setosa  \n",
       "..     ...         ...  \n",
       "145      2   virginica  \n",
       "146      2   virginica  \n",
       "147      2   virginica  \n",
       "148      2   virginica  \n",
       "149      2   virginica  \n",
       "\n",
       "[150 rows x 6 columns]"
      ]
     },
     "execution_count": 93,
     "metadata": {},
     "output_type": "execute_result"
    }
   ],
   "source": [
    "import pandas as pd \n",
    "import numpy as np \n",
    "np.random.seed = 2021\n",
    "from sklearn.datasets import load_iris\n",
    "\n",
    "iris = load_iris()\n",
    "X, y, labels, feature_names  = iris.data, iris.target, iris.target_names, iris['feature_names']\n",
    "df_iris= pd.DataFrame(X, columns= feature_names) \n",
    "df_iris['label'] =  y\n",
    "features_dict = {k:v for k,v in  enumerate(labels)}\n",
    "df_iris['label_names'] = df_iris.label.apply(lambda x: features_dict[x])\n",
    "\n",
    "df_iris\n"
   ]
  },
  {
   "cell_type": "markdown",
   "id": "45d5bf6d-3b4d-4f07-a2f6-6a4d800b6fc7",
   "metadata": {},
   "source": [
    "# Spliting to traing and test"
   ]
  },
  {
   "cell_type": "code",
   "execution_count": 95,
   "id": "cec97b08-d874-42fd-97f8-381ae5c7d11c",
   "metadata": {},
   "outputs": [],
   "source": [
    "from sklearn.model_selection import train_test_split\n",
    "\n",
    "df_train, df_test = train_test_split(df_iris)\n",
    "\n",
    "X_train = df_train[['sepal length (cm)','sepal width (cm)','petal length (cm)','petal width (cm)']]\n",
    "y_train = df_train['label']\n",
    "\n",
    "X_test = df_test[['sepal length (cm)','sepal width (cm)','petal length (cm)','petal width (cm)']]\n",
    "y_test = df_test['label']\n",
    "\n",
    "#Scaling\n",
    "from sklearn.preprocessing import StandardScaler\n",
    "\n",
    "scaler = StandardScaler()\n",
    "\n",
    "X_train = scaler.fit_transform(X_train)\n",
    "X_test = scaler.fit_transform(X_test)\n"
   ]
  },
  {
   "cell_type": "markdown",
   "id": "1f0f0e48-7e30-4fdd-b5e5-5f5f127fc7d0",
   "metadata": {},
   "source": [
    "# KNN "
   ]
  },
  {
   "cell_type": "code",
   "execution_count": 97,
   "id": "88721edc-706b-4edb-8081-5d1eb2a33d64",
   "metadata": {},
   "outputs": [
    {
     "name": "stdout",
     "output_type": "stream",
     "text": [
      "The best k = 12 , score = 0.9473684210526315\n"
     ]
    }
   ],
   "source": [
    "from sklearn.neighbors import KNeighborsClassifier\n",
    "from sklearn.model_selection import cross_val_score\n",
    "\n",
    "# Крос-валідація\n",
    "k_values = range(1, 20)\n",
    "cv_scores = []\n",
    "\n",
    "for k in k_values:\n",
    "    сlassifier = KNeighborsClassifier(n_neighbors=k)\n",
    "    scores = cross_val_score(сlassifier, X_train, y_train, cv=5, scoring='accuracy')  # 5 кратна крос-валідація\n",
    "    cv_scores.append(scores.mean())\n",
    "    \n",
    "k_best = k_values[np.argmax(cv_scores)]\n",
    "сlassifier = KNeighborsClassifier(n_neighbors=k_best)\n",
    "сlassifier.fit(X_train, y_train)\n",
    "score_best = сlassifier.score(X_test, y_test)\n",
    "\n",
    "print ('The best k = {} , score = {}'.format(k_best, score_best ))"
   ]
  },
  {
   "cell_type": "markdown",
   "id": "853a286a-3311-4500-99d9-d0c199a80edc",
   "metadata": {},
   "source": [
    "# Synthetic dataset"
   ]
  },
  {
   "cell_type": "code",
   "execution_count": 99,
   "id": "5956aca6-7fb5-4c2a-aef4-3a505c312f3a",
   "metadata": {},
   "outputs": [],
   "source": [
    "from sklearn.datasets import make_blobs\n",
    "np.random.seed= 2021\n",
    "X_D2, y_D2 = make_blobs(n_samples = 300, n_features = 2, centers = 8,\n",
    "                       cluster_std = 1.3, random_state = 4)\n",
    "y_D2 = y_D2 % 2"
   ]
  },
  {
   "cell_type": "markdown",
   "id": "5a98cd2c-2ca3-4a11-9090-a0da534d8e61",
   "metadata": {},
   "source": [
    "# Preparing data"
   ]
  },
  {
   "cell_type": "code",
   "execution_count": 101,
   "id": "623f131f-989e-4959-8491-706d248e3819",
   "metadata": {},
   "outputs": [],
   "source": [
    "X_train, X_test, y_train, y_test = train_test_split(X_D2, y_D2)\n",
    "\n",
    "from sklearn.preprocessing import MinMaxScaler \n",
    "scaler= MinMaxScaler()\n",
    "X_train = scaler.fit_transform(X_train)\n",
    "X_test = scaler.transform(X_test)"
   ]
  },
  {
   "cell_type": "markdown",
   "id": "8fd756ae-0846-48b0-9ce2-84bbc94be1cf",
   "metadata": {},
   "source": [
    "# KNN regressor"
   ]
  },
  {
   "cell_type": "code",
   "execution_count": 103,
   "id": "962e2170-54a3-4e87-aa84-f81370233e78",
   "metadata": {},
   "outputs": [
    {
     "name": "stdout",
     "output_type": "stream",
     "text": [
      "The best k = 13 , score = 0.7777908709082798\n"
     ]
    }
   ],
   "source": [
    "from sklearn.neighbors import KNeighborsRegressor\n",
    "k_values = range(1, 20)\n",
    "cv_scores = []\n",
    "\n",
    "for k in k_values:\n",
    "    regressor = KNeighborsRegressor(n_neighbors=k)\n",
    "    scores = cross_val_score(regressor, X_train, y_train, cv=20, scoring='r2')\n",
    "    cv_scores.append(scores.mean())\n",
    "    \n",
    "k_best = k_values[np.argmax(cv_scores)]\n",
    "regressor = KNeighborsRegressor(n_neighbors=k_best)\n",
    "regressor.fit(X_train, y_train)\n",
    "score_best = regressor.score(X_test, y_test)\n",
    "\n",
    "print ('The best k = {} , score = {}'.format(k_best,score_best ))"
   ]
  },
  {
   "cell_type": "markdown",
   "id": "f8bfc962-b8c4-4d99-ab49-3ec489d76c50",
   "metadata": {},
   "source": [
    "# Visualization"
   ]
  },
  {
   "cell_type": "code",
   "execution_count": 105,
   "id": "cc78cfc5-09ad-41f6-84bc-17b39a968ebc",
   "metadata": {},
   "outputs": [
    {
     "name": "stdout",
     "output_type": "stream",
     "text": [
      "Call prediction for all grid values (precision of drawing = 0.01, you may configure to speed up e.g. precision=0.05)\n"
     ]
    }
   ],
   "source": [
    "import ML_mst as mst\n",
    "\n",
    "mst.plot_decision_boundary(regressor, X_train, y_train, X_test=X_test, y_test= y_test,\n",
    "                               title='KNN regrestion K= {}, score = {:.2f}'.format(k_best, score_best))\n"
   ]
  }
 ],
 "metadata": {
  "kernelspec": {
   "display_name": "Python [conda env:base] *",
   "language": "python",
   "name": "conda-base-py"
  },
  "language_info": {
   "codemirror_mode": {
    "name": "ipython",
    "version": 3
   },
   "file_extension": ".py",
   "mimetype": "text/x-python",
   "name": "python",
   "nbconvert_exporter": "python",
   "pygments_lexer": "ipython3",
   "version": "3.12.9"
  }
 },
 "nbformat": 4,
 "nbformat_minor": 5
}
